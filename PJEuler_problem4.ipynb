{
 "cells": [
  {
   "cell_type": "code",
   "execution_count": 12,
   "metadata": {},
   "outputs": [
    {
     "name": "stdout",
     "output_type": "stream",
     "text": [
      "906609\n"
     ]
    }
   ],
   "source": [
    "x=[]#回文数のリスト\n",
    "for i in range(100,1000):\n",
    "    for k in range(i, 1000):\n",
    "        ans = i*k\n",
    "        ans_str = str(ans)#回文かどうか確認するために文字列へ変更\n",
    "        \n",
    "        if (ans_str[::-1]) == ans_str:#スライス機能使い回文かどうかを判断\n",
    "            x.append(ans_str)#回文数をリストへ追加\n",
    "            x = [int(i) for i in x]#max関数を使うために文字列を数値へ戻す\n",
    "            \n",
    "print(max(x))"
   ]
  },
  {
   "cell_type": "code",
   "execution_count": null,
   "metadata": {},
   "outputs": [],
   "source": []
  }
 ],
 "metadata": {
  "kernelspec": {
   "display_name": "Python 3",
   "language": "python",
   "name": "python3"
  },
  "language_info": {
   "codemirror_mode": {
    "name": "ipython",
    "version": 3
   },
   "file_extension": ".py",
   "mimetype": "text/x-python",
   "name": "python",
   "nbconvert_exporter": "python",
   "pygments_lexer": "ipython3",
   "version": "3.7.1"
  }
 },
 "nbformat": 4,
 "nbformat_minor": 2
}

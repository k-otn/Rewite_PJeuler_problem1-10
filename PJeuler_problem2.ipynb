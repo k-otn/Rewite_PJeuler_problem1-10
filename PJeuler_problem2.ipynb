{
 "cells": [
  {
   "cell_type": "code",
   "execution_count": 1,
   "metadata": {},
   "outputs": [
    {
     "name": "stdout",
     "output_type": "stream",
     "text": [
      "4613730\n"
     ]
    }
   ],
   "source": [
    "sum = 0#該当する数を足し合わせる箱\n",
    "max = 4000000\n",
    "a = 1\n",
    "b = 2\n",
    "c = a + b\n",
    "\n",
    "while c <= max:#数値が偶数ならsumにその数を追加・次の項へ、それ以外であれば次の項へと進む\n",
    "    if c % 2 == 0:\n",
    "        sum += c\n",
    "        a = b\n",
    "        b = c\n",
    "        c = a + b\n",
    "    else:\n",
    "        sum += 0\n",
    "        a = b\n",
    "        b = c\n",
    "        c = a + b\n",
    "print(sum)"
   ]
  },
  {
   "cell_type": "code",
   "execution_count": null,
   "metadata": {},
   "outputs": [],
   "source": []
  }
 ],
 "metadata": {
  "kernelspec": {
   "display_name": "Python 3",
   "language": "python",
   "name": "python3"
  },
  "language_info": {
   "codemirror_mode": {
    "name": "ipython",
    "version": 3
   },
   "file_extension": ".py",
   "mimetype": "text/x-python",
   "name": "python",
   "nbconvert_exporter": "python",
   "pygments_lexer": "ipython3",
   "version": "3.7.1"
  }
 },
 "nbformat": 4,
 "nbformat_minor": 2
}

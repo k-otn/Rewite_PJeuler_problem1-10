{
 "cells": [
  {
   "cell_type": "code",
   "execution_count": 7,
   "metadata": {},
   "outputs": [
    {
     "name": "stdout",
     "output_type": "stream",
     "text": [
      "338350\n",
      "5050\n",
      "25164150\n"
     ]
    }
   ],
   "source": [
    "ans1 = 0\n",
    "ans2 = 0\n",
    "\n",
    "for i in range(1,101): #自然数1から100まで順に回す\n",
    "    ans1 += i**2 #回している数の2乗の和\n",
    "    ans2 += i #回している数の和\n",
    "    \n",
    "print(ans1)\n",
    "print(ans2)\n",
    "    \n",
    "print(ans2**2 - ans1) #1～100までの和を2乗から2乗の和を引く"
   ]
  },
  {
   "cell_type": "code",
   "execution_count": null,
   "metadata": {},
   "outputs": [],
   "source": []
  }
 ],
 "metadata": {
  "kernelspec": {
   "display_name": "Python 3",
   "language": "python",
   "name": "python3"
  },
  "language_info": {
   "codemirror_mode": {
    "name": "ipython",
    "version": 3
   },
   "file_extension": ".py",
   "mimetype": "text/x-python",
   "name": "python",
   "nbconvert_exporter": "python",
   "pygments_lexer": "ipython3",
   "version": "3.7.1"
  }
 },
 "nbformat": 4,
 "nbformat_minor": 2
}

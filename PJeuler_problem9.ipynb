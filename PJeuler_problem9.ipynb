{
 "cells": [
  {
   "cell_type": "code",
   "execution_count": 1,
   "metadata": {},
   "outputs": [
    {
     "name": "stdout",
     "output_type": "stream",
     "text": [
      "200 375 425\n",
      "31875000\n"
     ]
    }
   ],
   "source": [
    "# 直角三角形の辺をそれぞれa,b,c（cは斜辺）とする\n",
    "#　3辺合計が1000。aは1から1000で回す。bはaから1000まで。\n",
    "for a in range(1,1000):\n",
    "    for b in range(a,1000):\n",
    "        c = 1000-a-b\n",
    "        if a**2 + b**2 == c**2:\n",
    "            print(a,b,c)#abcの数値を確認 \n",
    "            print(a*b*c)#それぞれを掛け合わせ"
   ]
  },
  {
   "cell_type": "code",
   "execution_count": null,
   "metadata": {},
   "outputs": [],
   "source": []
  }
 ],
 "metadata": {
  "kernelspec": {
   "display_name": "Python 3",
   "language": "python",
   "name": "python3"
  },
  "language_info": {
   "codemirror_mode": {
    "name": "ipython",
    "version": 3
   },
   "file_extension": ".py",
   "mimetype": "text/x-python",
   "name": "python",
   "nbconvert_exporter": "python",
   "pygments_lexer": "ipython3",
   "version": "3.7.1"
  }
 },
 "nbformat": 4,
 "nbformat_minor": 2
}
